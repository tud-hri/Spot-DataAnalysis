{
 "cells": [
  {
   "cell_type": "code",
   "execution_count": 1,
   "metadata": {
    "ExecuteTime": {
     "end_time": "2023-09-28T23:18:01.945043600Z",
     "start_time": "2023-09-28T23:18:01.742556200Z"
    }
   },
   "outputs": [],
   "source": [
    "import matplotlib.pyplot as plt\n",
    "import seaborn as sns\n",
    "import pandas as pd\n",
    "import scipy.stats\n",
    "\n",
    "import statsmodels.api as sm\n",
    "from statsmodels.formula.api import ols\n",
    "from matplotlib.lines import Line2D\n",
    "\n",
    "sns.set(font_scale=2)\n",
    "sns.set_style(\"ticks\")"
   ]
  },
  {
   "cell_type": "code",
   "execution_count": 2,
   "metadata": {
    "collapsed": false,
    "pycharm": {
     "name": "#%%\n"
    },
    "ExecuteTime": {
     "end_time": "2023-09-28T23:18:01.981741100Z",
     "start_time": "2023-09-28T23:18:01.945043600Z"
    }
   },
   "outputs": [],
   "source": [
    "demographics_data = pd.read_csv(\"data/Questionnaire/demographics.csv\")\n",
    "demographics_data.columns = [\"Participant\", \"Sex\", \"Age\", \"Familiarity\", \"Attitude\"]\n",
    "demographics_data[\"Experience\"] = \"Videos\"\n",
    "demographics_data.loc[demographics_data[\"Familiarity\"] > 3, \"Experience\"] = \"In-person\" \n",
    "demographics_data[\"attitude_q\"] = pd.cut(demographics_data.Attitude, 2, labels=[\"Negative\", \"Positive\"])\n",
    "\n",
    "data = pd.read_csv(\"data/Questionnaire/Questionnaire_responses.csv\")\n",
    "data = data.replace(\"Fronting\", \"Head-on\")\n",
    "data_long = pd.melt(data, id_vars=[\"Scenario\", \"Appearance\", \"Feeling\"], var_name='Participant', value_name='Rating')\n",
    "data_long[\"Participant\"] = data_long[\"Participant\"].astype(int)\n",
    "\n",
    "data_wide = data_long.pivot(index=['Participant', 'Scenario', 'Appearance'], columns='Feeling', values='Rating')\n",
    "full_data = data_long.join(demographics_data.set_index(\"Participant\"), on=\"Participant\")\n",
    "\n",
    "participants = full_data.groupby(\"Participant\")[[\"Rating\"]].mean()\n",
    "participants = participants.join(demographics_data.set_index(\"Participant\"), on=\"Participant\")\n",
    "data_long = data_long.join(participants[\"Experience\"], on=\"Participant\", how=\"left\")"
   ]
  },
  {
   "cell_type": "code",
   "execution_count": 3,
   "outputs": [],
   "source": [
    "participants.to_csv(\"data/processed/participants.csv\")"
   ],
   "metadata": {
    "collapsed": false,
    "ExecuteTime": {
     "end_time": "2023-09-28T23:18:01.999043300Z",
     "start_time": "2023-09-28T23:18:01.980611200Z"
    }
   }
  },
  {
   "cell_type": "code",
   "execution_count": 4,
   "outputs": [
    {
     "data": {
      "text/plain": "              Rating Sex  Age  Familiarity  Attitude Experience attitude_q\nParticipant                                                               \n1            3.40625   M   26            5         4  In-person   Positive\n2            2.96875   M   27            3         4     Videos   Positive\n3            3.03125   M   26            4         4  In-person   Positive\n4            2.84375   M   26            4         1  In-person   Negative\n5            3.46875   M   30            4         4  In-person   Positive\n6            3.50000   M   23            3         5     Videos   Positive\n7            4.09375   M   34            4         4  In-person   Positive\n8            3.71875   M   27            5         5  In-person   Positive\n9            3.15625   F   26            3         3     Videos   Negative\n10           3.84375   O   28            4         4  In-person   Positive\n11           3.96875   F   25            3         3     Videos   Negative\n12           3.78125   F   23            4         4  In-person   Positive\n13           2.75000   M   29            3         4     Videos   Positive\n14           2.28125   M   22            4         3  In-person   Negative\n15           4.43750   M   31            3         4     Videos   Positive\n16           4.59375   F   36            3         5     Videos   Positive\n17           2.65625   M   41            3         2     Videos   Negative\n18           3.06250   M   22            3         3     Videos   Negative\n19           3.53125   F   27            3         2     Videos   Negative\n20           3.21875   F   24            4         5  In-person   Positive\n21           2.53125   F   32            4         4  In-person   Positive",
      "text/html": "<div>\n<style scoped>\n    .dataframe tbody tr th:only-of-type {\n        vertical-align: middle;\n    }\n\n    .dataframe tbody tr th {\n        vertical-align: top;\n    }\n\n    .dataframe thead th {\n        text-align: right;\n    }\n</style>\n<table border=\"1\" class=\"dataframe\">\n  <thead>\n    <tr style=\"text-align: right;\">\n      <th></th>\n      <th>Rating</th>\n      <th>Sex</th>\n      <th>Age</th>\n      <th>Familiarity</th>\n      <th>Attitude</th>\n      <th>Experience</th>\n      <th>attitude_q</th>\n    </tr>\n    <tr>\n      <th>Participant</th>\n      <th></th>\n      <th></th>\n      <th></th>\n      <th></th>\n      <th></th>\n      <th></th>\n      <th></th>\n    </tr>\n  </thead>\n  <tbody>\n    <tr>\n      <th>1</th>\n      <td>3.40625</td>\n      <td>M</td>\n      <td>26</td>\n      <td>5</td>\n      <td>4</td>\n      <td>In-person</td>\n      <td>Positive</td>\n    </tr>\n    <tr>\n      <th>2</th>\n      <td>2.96875</td>\n      <td>M</td>\n      <td>27</td>\n      <td>3</td>\n      <td>4</td>\n      <td>Videos</td>\n      <td>Positive</td>\n    </tr>\n    <tr>\n      <th>3</th>\n      <td>3.03125</td>\n      <td>M</td>\n      <td>26</td>\n      <td>4</td>\n      <td>4</td>\n      <td>In-person</td>\n      <td>Positive</td>\n    </tr>\n    <tr>\n      <th>4</th>\n      <td>2.84375</td>\n      <td>M</td>\n      <td>26</td>\n      <td>4</td>\n      <td>1</td>\n      <td>In-person</td>\n      <td>Negative</td>\n    </tr>\n    <tr>\n      <th>5</th>\n      <td>3.46875</td>\n      <td>M</td>\n      <td>30</td>\n      <td>4</td>\n      <td>4</td>\n      <td>In-person</td>\n      <td>Positive</td>\n    </tr>\n    <tr>\n      <th>6</th>\n      <td>3.50000</td>\n      <td>M</td>\n      <td>23</td>\n      <td>3</td>\n      <td>5</td>\n      <td>Videos</td>\n      <td>Positive</td>\n    </tr>\n    <tr>\n      <th>7</th>\n      <td>4.09375</td>\n      <td>M</td>\n      <td>34</td>\n      <td>4</td>\n      <td>4</td>\n      <td>In-person</td>\n      <td>Positive</td>\n    </tr>\n    <tr>\n      <th>8</th>\n      <td>3.71875</td>\n      <td>M</td>\n      <td>27</td>\n      <td>5</td>\n      <td>5</td>\n      <td>In-person</td>\n      <td>Positive</td>\n    </tr>\n    <tr>\n      <th>9</th>\n      <td>3.15625</td>\n      <td>F</td>\n      <td>26</td>\n      <td>3</td>\n      <td>3</td>\n      <td>Videos</td>\n      <td>Negative</td>\n    </tr>\n    <tr>\n      <th>10</th>\n      <td>3.84375</td>\n      <td>O</td>\n      <td>28</td>\n      <td>4</td>\n      <td>4</td>\n      <td>In-person</td>\n      <td>Positive</td>\n    </tr>\n    <tr>\n      <th>11</th>\n      <td>3.96875</td>\n      <td>F</td>\n      <td>25</td>\n      <td>3</td>\n      <td>3</td>\n      <td>Videos</td>\n      <td>Negative</td>\n    </tr>\n    <tr>\n      <th>12</th>\n      <td>3.78125</td>\n      <td>F</td>\n      <td>23</td>\n      <td>4</td>\n      <td>4</td>\n      <td>In-person</td>\n      <td>Positive</td>\n    </tr>\n    <tr>\n      <th>13</th>\n      <td>2.75000</td>\n      <td>M</td>\n      <td>29</td>\n      <td>3</td>\n      <td>4</td>\n      <td>Videos</td>\n      <td>Positive</td>\n    </tr>\n    <tr>\n      <th>14</th>\n      <td>2.28125</td>\n      <td>M</td>\n      <td>22</td>\n      <td>4</td>\n      <td>3</td>\n      <td>In-person</td>\n      <td>Negative</td>\n    </tr>\n    <tr>\n      <th>15</th>\n      <td>4.43750</td>\n      <td>M</td>\n      <td>31</td>\n      <td>3</td>\n      <td>4</td>\n      <td>Videos</td>\n      <td>Positive</td>\n    </tr>\n    <tr>\n      <th>16</th>\n      <td>4.59375</td>\n      <td>F</td>\n      <td>36</td>\n      <td>3</td>\n      <td>5</td>\n      <td>Videos</td>\n      <td>Positive</td>\n    </tr>\n    <tr>\n      <th>17</th>\n      <td>2.65625</td>\n      <td>M</td>\n      <td>41</td>\n      <td>3</td>\n      <td>2</td>\n      <td>Videos</td>\n      <td>Negative</td>\n    </tr>\n    <tr>\n      <th>18</th>\n      <td>3.06250</td>\n      <td>M</td>\n      <td>22</td>\n      <td>3</td>\n      <td>3</td>\n      <td>Videos</td>\n      <td>Negative</td>\n    </tr>\n    <tr>\n      <th>19</th>\n      <td>3.53125</td>\n      <td>F</td>\n      <td>27</td>\n      <td>3</td>\n      <td>2</td>\n      <td>Videos</td>\n      <td>Negative</td>\n    </tr>\n    <tr>\n      <th>20</th>\n      <td>3.21875</td>\n      <td>F</td>\n      <td>24</td>\n      <td>4</td>\n      <td>5</td>\n      <td>In-person</td>\n      <td>Positive</td>\n    </tr>\n    <tr>\n      <th>21</th>\n      <td>2.53125</td>\n      <td>F</td>\n      <td>32</td>\n      <td>4</td>\n      <td>4</td>\n      <td>In-person</td>\n      <td>Positive</td>\n    </tr>\n  </tbody>\n</table>\n</div>"
     },
     "execution_count": 4,
     "metadata": {},
     "output_type": "execute_result"
    }
   ],
   "source": [
    "participants"
   ],
   "metadata": {
    "collapsed": false,
    "ExecuteTime": {
     "end_time": "2023-09-28T23:18:02.029737500Z",
     "start_time": "2023-09-28T23:18:01.999043300Z"
    }
   }
  },
  {
   "cell_type": "markdown",
   "source": [],
   "metadata": {
    "collapsed": false
   }
  },
  {
   "cell_type": "markdown",
   "source": [
    "# Demographics overview"
   ],
   "metadata": {
    "collapsed": false,
    "ExecuteTime": {
     "end_time": "2023-09-19T15:51:11.793919900Z",
     "start_time": "2023-09-19T15:51:11.729456200Z"
    }
   }
  },
  {
   "cell_type": "code",
   "execution_count": 5,
   "outputs": [
    {
     "data": {
      "text/plain": "    Participant Sex  Age  Familiarity  Attitude Experience attitude_q\n0             1   M   26            5         4  In-person   Positive\n1             2   M   27            3         4     Videos   Positive\n2             3   M   26            4         4  In-person   Positive\n3             4   M   26            4         1  In-person   Negative\n4             5   M   30            4         4  In-person   Positive\n5             6   M   23            3         5     Videos   Positive\n6             7   M   34            4         4  In-person   Positive\n7             8   M   27            5         5  In-person   Positive\n8             9   F   26            3         3     Videos   Negative\n9            10   O   28            4         4  In-person   Positive\n10           11   F   25            3         3     Videos   Negative\n11           12   F   23            4         4  In-person   Positive\n12           13   M   29            3         4     Videos   Positive\n13           14   M   22            4         3  In-person   Negative\n14           15   M   31            3         4     Videos   Positive\n15           16   F   36            3         5     Videos   Positive\n16           17   M   41            3         2     Videos   Negative\n17           18   M   22            3         3     Videos   Negative\n18           19   F   27            3         2     Videos   Negative\n19           20   F   24            4         5  In-person   Positive\n20           21   F   32            4         4  In-person   Positive",
      "text/html": "<div>\n<style scoped>\n    .dataframe tbody tr th:only-of-type {\n        vertical-align: middle;\n    }\n\n    .dataframe tbody tr th {\n        vertical-align: top;\n    }\n\n    .dataframe thead th {\n        text-align: right;\n    }\n</style>\n<table border=\"1\" class=\"dataframe\">\n  <thead>\n    <tr style=\"text-align: right;\">\n      <th></th>\n      <th>Participant</th>\n      <th>Sex</th>\n      <th>Age</th>\n      <th>Familiarity</th>\n      <th>Attitude</th>\n      <th>Experience</th>\n      <th>attitude_q</th>\n    </tr>\n  </thead>\n  <tbody>\n    <tr>\n      <th>0</th>\n      <td>1</td>\n      <td>M</td>\n      <td>26</td>\n      <td>5</td>\n      <td>4</td>\n      <td>In-person</td>\n      <td>Positive</td>\n    </tr>\n    <tr>\n      <th>1</th>\n      <td>2</td>\n      <td>M</td>\n      <td>27</td>\n      <td>3</td>\n      <td>4</td>\n      <td>Videos</td>\n      <td>Positive</td>\n    </tr>\n    <tr>\n      <th>2</th>\n      <td>3</td>\n      <td>M</td>\n      <td>26</td>\n      <td>4</td>\n      <td>4</td>\n      <td>In-person</td>\n      <td>Positive</td>\n    </tr>\n    <tr>\n      <th>3</th>\n      <td>4</td>\n      <td>M</td>\n      <td>26</td>\n      <td>4</td>\n      <td>1</td>\n      <td>In-person</td>\n      <td>Negative</td>\n    </tr>\n    <tr>\n      <th>4</th>\n      <td>5</td>\n      <td>M</td>\n      <td>30</td>\n      <td>4</td>\n      <td>4</td>\n      <td>In-person</td>\n      <td>Positive</td>\n    </tr>\n    <tr>\n      <th>5</th>\n      <td>6</td>\n      <td>M</td>\n      <td>23</td>\n      <td>3</td>\n      <td>5</td>\n      <td>Videos</td>\n      <td>Positive</td>\n    </tr>\n    <tr>\n      <th>6</th>\n      <td>7</td>\n      <td>M</td>\n      <td>34</td>\n      <td>4</td>\n      <td>4</td>\n      <td>In-person</td>\n      <td>Positive</td>\n    </tr>\n    <tr>\n      <th>7</th>\n      <td>8</td>\n      <td>M</td>\n      <td>27</td>\n      <td>5</td>\n      <td>5</td>\n      <td>In-person</td>\n      <td>Positive</td>\n    </tr>\n    <tr>\n      <th>8</th>\n      <td>9</td>\n      <td>F</td>\n      <td>26</td>\n      <td>3</td>\n      <td>3</td>\n      <td>Videos</td>\n      <td>Negative</td>\n    </tr>\n    <tr>\n      <th>9</th>\n      <td>10</td>\n      <td>O</td>\n      <td>28</td>\n      <td>4</td>\n      <td>4</td>\n      <td>In-person</td>\n      <td>Positive</td>\n    </tr>\n    <tr>\n      <th>10</th>\n      <td>11</td>\n      <td>F</td>\n      <td>25</td>\n      <td>3</td>\n      <td>3</td>\n      <td>Videos</td>\n      <td>Negative</td>\n    </tr>\n    <tr>\n      <th>11</th>\n      <td>12</td>\n      <td>F</td>\n      <td>23</td>\n      <td>4</td>\n      <td>4</td>\n      <td>In-person</td>\n      <td>Positive</td>\n    </tr>\n    <tr>\n      <th>12</th>\n      <td>13</td>\n      <td>M</td>\n      <td>29</td>\n      <td>3</td>\n      <td>4</td>\n      <td>Videos</td>\n      <td>Positive</td>\n    </tr>\n    <tr>\n      <th>13</th>\n      <td>14</td>\n      <td>M</td>\n      <td>22</td>\n      <td>4</td>\n      <td>3</td>\n      <td>In-person</td>\n      <td>Negative</td>\n    </tr>\n    <tr>\n      <th>14</th>\n      <td>15</td>\n      <td>M</td>\n      <td>31</td>\n      <td>3</td>\n      <td>4</td>\n      <td>Videos</td>\n      <td>Positive</td>\n    </tr>\n    <tr>\n      <th>15</th>\n      <td>16</td>\n      <td>F</td>\n      <td>36</td>\n      <td>3</td>\n      <td>5</td>\n      <td>Videos</td>\n      <td>Positive</td>\n    </tr>\n    <tr>\n      <th>16</th>\n      <td>17</td>\n      <td>M</td>\n      <td>41</td>\n      <td>3</td>\n      <td>2</td>\n      <td>Videos</td>\n      <td>Negative</td>\n    </tr>\n    <tr>\n      <th>17</th>\n      <td>18</td>\n      <td>M</td>\n      <td>22</td>\n      <td>3</td>\n      <td>3</td>\n      <td>Videos</td>\n      <td>Negative</td>\n    </tr>\n    <tr>\n      <th>18</th>\n      <td>19</td>\n      <td>F</td>\n      <td>27</td>\n      <td>3</td>\n      <td>2</td>\n      <td>Videos</td>\n      <td>Negative</td>\n    </tr>\n    <tr>\n      <th>19</th>\n      <td>20</td>\n      <td>F</td>\n      <td>24</td>\n      <td>4</td>\n      <td>5</td>\n      <td>In-person</td>\n      <td>Positive</td>\n    </tr>\n    <tr>\n      <th>20</th>\n      <td>21</td>\n      <td>F</td>\n      <td>32</td>\n      <td>4</td>\n      <td>4</td>\n      <td>In-person</td>\n      <td>Positive</td>\n    </tr>\n  </tbody>\n</table>\n</div>"
     },
     "execution_count": 5,
     "metadata": {},
     "output_type": "execute_result"
    }
   ],
   "source": [
    "demographics_data"
   ],
   "metadata": {
    "collapsed": false,
    "ExecuteTime": {
     "end_time": "2023-09-28T23:18:02.045530700Z",
     "start_time": "2023-09-28T23:18:02.027727500Z"
    }
   }
  },
  {
   "cell_type": "code",
   "execution_count": 6,
   "outputs": [
    {
     "data": {
      "text/plain": "Sex\nF     7\nM    13\nO     1\ndtype: int64"
     },
     "execution_count": 6,
     "metadata": {},
     "output_type": "execute_result"
    }
   ],
   "source": [
    "demographics_data.groupby(\"Sex\").size()"
   ],
   "metadata": {
    "collapsed": false,
    "ExecuteTime": {
     "end_time": "2023-09-28T23:18:02.167476400Z",
     "start_time": "2023-09-28T23:18:02.045530700Z"
    }
   }
  },
  {
   "cell_type": "code",
   "execution_count": 7,
   "outputs": [
    {
     "name": "stdout",
     "output_type": "stream",
     "text": [
      "27.857142857142858 4.819602828923918\n"
     ]
    }
   ],
   "source": [
    "print(demographics_data.Age.mean(), demographics_data.Age.std())"
   ],
   "metadata": {
    "collapsed": false,
    "ExecuteTime": {
     "end_time": "2023-09-28T23:18:02.211245800Z",
     "start_time": "2023-09-28T23:18:02.061209900Z"
    }
   }
  },
  {
   "cell_type": "code",
   "execution_count": 8,
   "outputs": [
    {
     "data": {
      "text/plain": "Familiarity\n3    10\n4     9\n5     2\ndtype: int64"
     },
     "execution_count": 8,
     "metadata": {},
     "output_type": "execute_result"
    }
   ],
   "source": [
    "demographics_data.groupby(\"Familiarity\").size()"
   ],
   "metadata": {
    "collapsed": false,
    "ExecuteTime": {
     "end_time": "2023-09-28T23:18:02.255668900Z",
     "start_time": "2023-09-28T23:18:02.081780400Z"
    }
   }
  },
  {
   "cell_type": "code",
   "execution_count": 9,
   "outputs": [
    {
     "data": {
      "text/plain": "3.6666666666666665"
     },
     "execution_count": 9,
     "metadata": {},
     "output_type": "execute_result"
    }
   ],
   "source": [
    "demographics_data[\"Attitude\"].mean()"
   ],
   "metadata": {
    "collapsed": false,
    "ExecuteTime": {
     "end_time": "2023-09-28T23:18:02.260646600Z",
     "start_time": "2023-09-28T23:18:02.103772700Z"
    }
   }
  },
  {
   "cell_type": "code",
   "execution_count": 10,
   "outputs": [
    {
     "data": {
      "text/plain": "Text(0, 0.5, 'Count')"
     },
     "execution_count": 10,
     "metadata": {},
     "output_type": "execute_result"
    },
    {
     "data": {
      "text/plain": "<Figure size 640x480 with 1 Axes>",
      "image/png": "[encoded data removed]"
     },
     "metadata": {},
     "output_type": "display_data"
    }
   ],
   "source": [
    "ax = demographics_data[\"Attitude\"].value_counts().sort_index().plot(kind=\"bar\")\n",
    "ax.set_ylabel(\"Count\")"
   ],
   "metadata": {
    "collapsed": false,
    "ExecuteTime": {
     "end_time": "2023-09-28T23:18:02.329552500Z",
     "start_time": "2023-09-28T23:18:02.116616100Z"
    }
   }
  },
  {
   "cell_type": "markdown",
   "source": [
    "# Perception questionnaires"
   ],
   "metadata": {
    "collapsed": false
   }
  },
  {
   "cell_type": "markdown",
   "source": [
    "## ANOVA"
   ],
   "metadata": {
    "collapsed": false
   }
  },
  {
   "cell_type": "code",
   "execution_count": 11,
   "outputs": [
    {
     "data": {
      "text/plain": "                                             sum_sq     df          F  \\\nC(Scenario)                               11.263393    1.0  11.055385   \nC(Appearance)                             12.870536    1.0  12.632848   \nC(Experience)                              4.837716    1.0   4.748376   \nC(Scenario):C(Appearance)                  0.537202    1.0   0.527282   \nC(Scenario):C(Experience)                  2.739448    1.0   2.688857   \nC(Appearance):C(Experience)                0.355032    1.0   0.348476   \nC(Scenario):C(Appearance):C(Experience)    0.152002    1.0   0.149195   \nResidual                                 676.493182  664.0        NaN   \n\n                                           PR(>F)  \nC(Scenario)                              0.000933  \nC(Appearance)                            0.000406  \nC(Experience)                            0.029677  \nC(Scenario):C(Appearance)                0.468008  \nC(Scenario):C(Experience)                0.101526  \nC(Appearance):C(Experience)              0.555178  \nC(Scenario):C(Appearance):C(Experience)  0.699430  \nResidual                                      NaN  ",
      "text/html": "<div>\n<style scoped>\n    .dataframe tbody tr th:only-of-type {\n        vertical-align: middle;\n    }\n\n    .dataframe tbody tr th {\n        vertical-align: top;\n    }\n\n    .dataframe thead th {\n        text-align: right;\n    }\n</style>\n<table border=\"1\" class=\"dataframe\">\n  <thead>\n    <tr style=\"text-align: right;\">\n      <th></th>\n      <th>sum_sq</th>\n      <th>df</th>\n      <th>F</th>\n      <th>PR(&gt;F)</th>\n    </tr>\n  </thead>\n  <tbody>\n    <tr>\n      <th>C(Scenario)</th>\n      <td>11.263393</td>\n      <td>1.0</td>\n      <td>11.055385</td>\n      <td>0.000933</td>\n    </tr>\n    <tr>\n      <th>C(Appearance)</th>\n      <td>12.870536</td>\n      <td>1.0</td>\n      <td>12.632848</td>\n      <td>0.000406</td>\n    </tr>\n    <tr>\n      <th>C(Experience)</th>\n      <td>4.837716</td>\n      <td>1.0</td>\n      <td>4.748376</td>\n      <td>0.029677</td>\n    </tr>\n    <tr>\n      <th>C(Scenario):C(Appearance)</th>\n      <td>0.537202</td>\n      <td>1.0</td>\n      <td>0.527282</td>\n      <td>0.468008</td>\n    </tr>\n    <tr>\n      <th>C(Scenario):C(Experience)</th>\n      <td>2.739448</td>\n      <td>1.0</td>\n      <td>2.688857</td>\n      <td>0.101526</td>\n    </tr>\n    <tr>\n      <th>C(Appearance):C(Experience)</th>\n      <td>0.355032</td>\n      <td>1.0</td>\n      <td>0.348476</td>\n      <td>0.555178</td>\n    </tr>\n    <tr>\n      <th>C(Scenario):C(Appearance):C(Experience)</th>\n      <td>0.152002</td>\n      <td>1.0</td>\n      <td>0.149195</td>\n      <td>0.699430</td>\n    </tr>\n    <tr>\n      <th>Residual</th>\n      <td>676.493182</td>\n      <td>664.0</td>\n      <td>NaN</td>\n      <td>NaN</td>\n    </tr>\n  </tbody>\n</table>\n</div>"
     },
     "execution_count": 11,
     "metadata": {},
     "output_type": "execute_result"
    }
   ],
   "source": [
    "model = ols(\n",
    "    'Rating ~ C(Scenario) * C(Appearance) * C(Experience)', data=data_long).fit()\n",
    "sm.stats.anova_lm(model, typ=2)"
   ],
   "metadata": {
    "collapsed": false,
    "ExecuteTime": {
     "end_time": "2023-09-28T23:18:02.401669700Z",
     "start_time": "2023-09-28T23:18:02.277554800Z"
    }
   }
  },
  {
   "cell_type": "markdown",
   "source": [
    "## Plots"
   ],
   "metadata": {
    "collapsed": false
   }
  },
  {
   "cell_type": "code",
   "execution_count": 12,
   "outputs": [
    {
     "name": "stderr",
     "output_type": "stream",
     "text": [
      "D:\\source\\Spot-DataAnalysis\\venv\\lib\\site-packages\\seaborn\\_oldcore.py:1498: FutureWarning: is_categorical_dtype is deprecated and will be removed in a future version. Use isinstance(dtype, CategoricalDtype) instead\n",
      "  if pd.api.types.is_categorical_dtype(vector):\n",
      "D:\\source\\Spot-DataAnalysis\\venv\\lib\\site-packages\\seaborn\\_oldcore.py:1498: FutureWarning: is_categorical_dtype is deprecated and will be removed in a future version. Use isinstance(dtype, CategoricalDtype) instead\n",
      "  if pd.api.types.is_categorical_dtype(vector):\n",
      "D:\\source\\Spot-DataAnalysis\\venv\\lib\\site-packages\\seaborn\\_oldcore.py:1498: FutureWarning: is_categorical_dtype is deprecated and will be removed in a future version. Use isinstance(dtype, CategoricalDtype) instead\n",
      "  if pd.api.types.is_categorical_dtype(vector):\n",
      "D:\\source\\Spot-DataAnalysis\\venv\\lib\\site-packages\\seaborn\\_oldcore.py:1498: FutureWarning: is_categorical_dtype is deprecated and will be removed in a future version. Use isinstance(dtype, CategoricalDtype) instead\n",
      "  if pd.api.types.is_categorical_dtype(vector):\n",
      "D:\\source\\Spot-DataAnalysis\\venv\\lib\\site-packages\\seaborn\\_oldcore.py:1498: FutureWarning: is_categorical_dtype is deprecated and will be removed in a future version. Use isinstance(dtype, CategoricalDtype) instead\n",
      "  if pd.api.types.is_categorical_dtype(vector):\n",
      "D:\\source\\Spot-DataAnalysis\\venv\\lib\\site-packages\\seaborn\\_oldcore.py:1498: FutureWarning: is_categorical_dtype is deprecated and will be removed in a future version. Use isinstance(dtype, CategoricalDtype) instead\n",
      "  if pd.api.types.is_categorical_dtype(vector):\n",
      "D:\\source\\Spot-DataAnalysis\\venv\\lib\\site-packages\\seaborn\\_oldcore.py:1498: FutureWarning: is_categorical_dtype is deprecated and will be removed in a future version. Use isinstance(dtype, CategoricalDtype) instead\n",
      "  if pd.api.types.is_categorical_dtype(vector):\n",
      "D:\\source\\Spot-DataAnalysis\\venv\\lib\\site-packages\\seaborn\\_oldcore.py:1498: FutureWarning: is_categorical_dtype is deprecated and will be removed in a future version. Use isinstance(dtype, CategoricalDtype) instead\n",
      "  if pd.api.types.is_categorical_dtype(vector):\n",
      "D:\\source\\Spot-DataAnalysis\\venv\\lib\\site-packages\\seaborn\\_oldcore.py:1498: FutureWarning: is_categorical_dtype is deprecated and will be removed in a future version. Use isinstance(dtype, CategoricalDtype) instead\n",
      "  if pd.api.types.is_categorical_dtype(vector):\n",
      "D:\\source\\Spot-DataAnalysis\\venv\\lib\\site-packages\\seaborn\\axisgrid.py:118: UserWarning: The figure layout has changed to tight\n",
      "  self._figure.tight_layout(*args, **kwargs)\n"
     ]
    },
    {
     "data": {
      "text/plain": "<Figure size 1000x500 with 2 Axes>",
      "image/png": "[encoded data removed]"
     },
     "metadata": {},
     "output_type": "display_data"
    }
   ],
   "source": [
    "g = sns.catplot(data=data_long.rename(columns={\"Appearance\": \"Personality\"}).replace(\"Videos\", \"Media\"), \n",
    "                y=\"Rating\", x=\"Personality\", col=\"Scenario\", hue=\"Experience\", kind=\"point\", dodge=True, scale=1.8, markers=[\"s\", \"o\"], palette=[\"grey\", \"grey\"], legend=False)\n",
    "(ax1, ax2) = g.axes.flatten()\n",
    "ax1.lines[3].set_linestyle(\"--\")\n",
    "ax2.lines[3].set_linestyle(\"--\")\n",
    "ax1.set_ylim((1, 5))\n",
    "ax2.set_ylim((1, 5))\n",
    "\n",
    "legend_elements = [Line2D([], [], color=\"grey\", marker=\"s\", ms=10, lw=3, ls=\"-\", label=\"In-person\"), \n",
    "                   Line2D([], [], color=\"grey\", marker=\"o\", ms=10, lw=3, ls=\"--\", label=\"Media\")]\n",
    "ax2.legend(handles=legend_elements, frameon=False, loc=\"lower right\")\n",
    "\n",
    "sns.despine(offset=5, trim=True)\n",
    "plt.savefig(\"output/perception_appearance_experience.png\", bbox_inches=\"tight\", dpi=300)"
   ],
   "metadata": {
    "collapsed": false,
    "ExecuteTime": {
     "end_time": "2023-09-28T23:18:03.085284500Z",
     "start_time": "2023-09-28T23:18:02.310684200Z"
    }
   }
  },
  {
   "cell_type": "markdown",
   "source": [
    "## t-tests"
   ],
   "metadata": {
    "collapsed": false
   }
  },
  {
   "cell_type": "code",
   "execution_count": 13,
   "outputs": [
    {
     "data": {
      "text/plain": "(3.511904761904762, 3.2351190476190474)"
     },
     "execution_count": 13,
     "metadata": {},
     "output_type": "execute_result"
    }
   ],
   "source": [
    "data_long[data_long.Appearance==\"Submissive\"].Rating.mean(), data_long[data_long.Appearance==\"Dominant\"].Rating.mean()"
   ],
   "metadata": {
    "collapsed": false,
    "ExecuteTime": {
     "end_time": "2023-09-28T23:18:03.094174Z",
     "start_time": "2023-09-28T23:18:03.082237500Z"
    }
   }
  },
  {
   "cell_type": "code",
   "execution_count": 14,
   "outputs": [
    {
     "data": {
      "text/plain": "TtestResult(statistic=4.546036246269203, pvalue=7.64650225782735e-06, df=335)"
     },
     "execution_count": 14,
     "metadata": {},
     "output_type": "execute_result"
    }
   ],
   "source": [
    "scipy.stats.ttest_rel(data_long[data_long.Appearance==\"Submissive\"].Rating, data_long[data_long.Appearance==\"Dominant\"].Rating)"
   ],
   "metadata": {
    "collapsed": false,
    "ExecuteTime": {
     "end_time": "2023-09-28T23:18:03.162041700Z",
     "start_time": "2023-09-28T23:18:03.094174Z"
    }
   }
  },
  {
   "cell_type": "code",
   "execution_count": 15,
   "outputs": [
    {
     "data": {
      "text/plain": "(3.2926136363636362, 3.4625)"
     },
     "execution_count": 15,
     "metadata": {},
     "output_type": "execute_result"
    }
   ],
   "source": [
    "data_long[data_long.Experience==\"In-person\"].Rating.mean(), data_long[data_long.Experience==\"Videos\"].Rating.mean()"
   ],
   "metadata": {
    "collapsed": false,
    "ExecuteTime": {
     "end_time": "2023-09-28T23:18:03.170979Z",
     "start_time": "2023-09-28T23:18:03.126335500Z"
    }
   }
  },
  {
   "cell_type": "code",
   "execution_count": 16,
   "outputs": [
    {
     "data": {
      "text/plain": "TtestResult(statistic=-2.145085487419647, pvalue=0.03230487882497948, df=670.0)"
     },
     "execution_count": 16,
     "metadata": {},
     "output_type": "execute_result"
    }
   ],
   "source": [
    "scipy.stats.ttest_ind(data_long[data_long.Experience==\"In-person\"].Rating, data_long[data_long.Experience==\"Videos\"].Rating)"
   ],
   "metadata": {
    "collapsed": false,
    "ExecuteTime": {
     "end_time": "2023-09-28T23:18:03.184378400Z",
     "start_time": "2023-09-28T23:18:03.146161300Z"
    }
   }
  },
  {
   "cell_type": "code",
   "execution_count": 17,
   "outputs": [
    {
     "data": {
      "text/plain": "(3.5029761904761907, 3.244047619047619)"
     },
     "execution_count": 17,
     "metadata": {},
     "output_type": "execute_result"
    }
   ],
   "source": [
    "data_long[data_long.Scenario==\"Crossing\"].Rating.mean(), data_long[data_long.Scenario==\"Head-on\"].Rating.mean()"
   ],
   "metadata": {
    "collapsed": false,
    "ExecuteTime": {
     "end_time": "2023-09-28T23:18:03.185366400Z",
     "start_time": "2023-09-28T23:18:03.162041700Z"
    }
   }
  },
  {
   "cell_type": "code",
   "execution_count": 18,
   "outputs": [
    {
     "data": {
      "text/plain": "TtestResult(statistic=-5.772495399239405, pvalue=1.7809904284727847e-08, df=335)"
     },
     "execution_count": 18,
     "metadata": {},
     "output_type": "execute_result"
    }
   ],
   "source": [
    "scipy.stats.ttest_rel(data_long[data_long.Scenario==\"Head-on\"].Rating, data_long[data_long.Scenario==\"Crossing\"].Rating)"
   ],
   "metadata": {
    "collapsed": false,
    "ExecuteTime": {
     "end_time": "2023-09-28T23:18:03.258174500Z",
     "start_time": "2023-09-28T23:18:03.181347Z"
    }
   }
  }
 ],
 "metadata": {
  "kernelspec": {
   "display_name": "Python 3 (ipykernel)",
   "language": "python",
   "name": "python3"
  },
  "language_info": {
   "codemirror_mode": {
    "name": "ipython",
    "version": 3
   },
   "file_extension": ".py",
   "mimetype": "text/x-python",
   "name": "python",
   "nbconvert_exporter": "python",
   "pygments_lexer": "ipython3",
   "version": "3.9.7"
  }
 },
 "nbformat": 4,
 "nbformat_minor": 4
}
